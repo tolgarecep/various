{
  "nbformat": 4,
  "nbformat_minor": 0,
  "metadata": {
    "colab": {
      "provenance": []
    },
    "kernelspec": {
      "name": "python3",
      "display_name": "Python 3"
    },
    "language_info": {
      "name": "python"
    },
    "gpuClass": "standard"
  },
  "cells": [
    {
      "cell_type": "code",
      "execution_count": 86,
      "metadata": {
        "id": "RRxrMfayoJSz"
      },
      "outputs": [],
      "source": [
        "import pandas as pd\n",
        "import random\n",
        "import matplotlib.pyplot as plt\n",
        "import torch\n",
        "import seaborn as sns"
      ]
    },
    {
      "cell_type": "code",
      "source": [
        "population = pd.read_csv('/content/sample_data/california_housing_train.csv')"
      ],
      "metadata": {
        "id": "X8-vbUEKoM1w"
      },
      "execution_count": 105,
      "outputs": []
    },
    {
      "cell_type": "markdown",
      "source": [
        "Distribution of the population:"
      ],
      "metadata": {
        "id": "oCyw56fJuPuh"
      }
    },
    {
      "cell_type": "code",
      "source": [
        "sns.histplot(data=population, x='total_rooms')"
      ],
      "metadata": {
        "colab": {
          "base_uri": "https://localhost:8080/",
          "height": 297
        },
        "id": "DbV3PkAhuDcB",
        "outputId": "cf11c952-e556-4bfd-ce22-0e5fe4600920"
      },
      "execution_count": 88,
      "outputs": [
        {
          "output_type": "execute_result",
          "data": {
            "text/plain": [
              "<AxesSubplot:xlabel='total_rooms', ylabel='Count'>"
            ]
          },
          "metadata": {},
          "execution_count": 88
        },
        {
          "output_type": "display_data",
          "data": {
            "text/plain": [
              "<Figure size 432x288 with 1 Axes>"
            ],
            "image/png": "[encoded data removed]"
          },
          "metadata": {
            "needs_background": "light"
          }
        }
      ]
    },
    {
      "cell_type": "code",
      "source": [
        "population.total_rooms.describe()"
      ],
      "metadata": {
        "colab": {
          "base_uri": "https://localhost:8080/"
        },
        "id": "YW2k_7pRujc_",
        "outputId": "6a86f2aa-7db1-4f6f-aba8-02afd8ba8c08"
      },
      "execution_count": 91,
      "outputs": [
        {
          "output_type": "execute_result",
          "data": {
            "text/plain": [
              "count    17000.000000\n",
              "mean      2643.664412\n",
              "std       2179.947071\n",
              "min          2.000000\n",
              "25%       1462.000000\n",
              "50%       2127.000000\n",
              "75%       3151.250000\n",
              "max      37937.000000\n",
              "Name: total_rooms, dtype: float64"
            ]
          },
          "metadata": {},
          "execution_count": 91
        }
      ]
    },
    {
      "cell_type": "markdown",
      "source": [
        "Distribution of a random sample:"
      ],
      "metadata": {
        "id": "uiNwj_BfuSfl"
      }
    },
    {
      "cell_type": "code",
      "source": [
        "ix = random.sample(range(17000), 1000) # n = 1000\n",
        "randsample = population.iloc[ix,:]"
      ],
      "metadata": {
        "id": "TmCFXlLruT6d"
      },
      "execution_count": 92,
      "outputs": []
    },
    {
      "cell_type": "code",
      "source": [
        "sns.histplot(data=population.iloc[ix,:], x='total_rooms')"
      ],
      "metadata": {
        "colab": {
          "base_uri": "https://localhost:8080/",
          "height": 297
        },
        "id": "d-Dq5YYLus4g",
        "outputId": "a0e94c8f-2ef6-423d-e3d0-1698c83fbd39"
      },
      "execution_count": 93,
      "outputs": [
        {
          "output_type": "execute_result",
          "data": {
            "text/plain": [
              "<AxesSubplot:xlabel='total_rooms', ylabel='Count'>"
            ]
          },
          "metadata": {},
          "execution_count": 93
        },
        {
          "output_type": "display_data",
          "data": {
            "text/plain": [
              "<Figure size 432x288 with 1 Axes>"
            ],
            "image/png": "[encoded data removed]"
          },
          "metadata": {
            "needs_background": "light"
          }
        }
      ]
    },
    {
      "cell_type": "code",
      "source": [
        "randsample.total_rooms.describe()"
      ],
      "metadata": {
        "colab": {
          "base_uri": "https://localhost:8080/"
        },
        "id": "gNNWqxTPumdV",
        "outputId": "f1169d09-86e5-4a64-fae6-b93f0373e547"
      },
      "execution_count": 94,
      "outputs": [
        {
          "output_type": "execute_result",
          "data": {
            "text/plain": [
              "count     1000.000000\n",
              "mean      2597.507000\n",
              "std       2049.931777\n",
              "min         18.000000\n",
              "25%       1392.750000\n",
              "50%       2071.000000\n",
              "75%       3169.500000\n",
              "max      18448.000000\n",
              "Name: total_rooms, dtype: float64"
            ]
          },
          "metadata": {},
          "execution_count": 94
        }
      ]
    },
    {
      "cell_type": "markdown",
      "source": [
        "Sampling distribution of the mean:"
      ],
      "metadata": {
        "id": "uiNfOukpwMZc"
      }
    },
    {
      "cell_type": "code",
      "source": [
        "samplemean_values = []\n",
        "n = 100 # in pratice, sample size must be >= 30\n",
        "for _ in range(1000):\n",
        "  ix = random.sample(range(17000), n)\n",
        "  randsample = population.iloc[ix,:]\n",
        "  samplemean = randsample.total_rooms.mean()\n",
        "  samplemean_values.append(samplemean)"
      ],
      "metadata": {
        "id": "fw16L2sgu1N5"
      },
      "execution_count": 127,
      "outputs": []
    },
    {
      "cell_type": "code",
      "source": [
        "sns.histplot(samplemean_values, kde=True)"
      ],
      "metadata": {
        "colab": {
          "base_uri": "https://localhost:8080/",
          "height": 285
        },
        "id": "q8ijqBBrvTVZ",
        "outputId": "7204f209-6924-4ea8-a225-f2f1df0c588a"
      },
      "execution_count": 128,
      "outputs": [
        {
          "output_type": "execute_result",
          "data": {
            "text/plain": [
              "<AxesSubplot:ylabel='Count'>"
            ]
          },
          "metadata": {},
          "execution_count": 128
        },
        {
          "output_type": "display_data",
          "data": {
            "text/plain": [
              "<Figure size 432x288 with 1 Axes>"
            ],
            "image/png": "[encoded data removed]"
          },
          "metadata": {
            "needs_background": "light"
          }
        }
      ]
    }
  ]
}