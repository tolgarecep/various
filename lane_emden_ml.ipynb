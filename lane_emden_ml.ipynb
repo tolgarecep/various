{
  "nbformat": 4,
  "nbformat_minor": 0,
  "metadata": {
    "colab": {
      "provenance": []
    },
    "kernelspec": {
      "name": "python3",
      "display_name": "Python 3"
    },
    "language_info": {
      "name": "python"
    }
  },
  "cells": [
    {
      "cell_type": "code",
      "source": [
        "import jax.numpy as jnp\n",
        "from jax import random, grad, vmap, jit\n",
        "\n",
        "from scipy.special import legendre\n",
        "\n",
        "import matplotlib.pyplot as plt"
      ],
      "metadata": {
        "id": "RjO4xh82LmzS"
      },
      "execution_count": 221,
      "outputs": []
    },
    {
      "cell_type": "code",
      "source": [
        "# # Activation functions\n",
        "def softplus(x):\n",
        "    return jnp.log(1. + jnp.exp(x))\n",
        "\n",
        "def sigmoid(x):\n",
        "    return 1./(1. + jnp.exp(-x))\n",
        "\n",
        "# # jnp.exp OVERFLOWS!!!\n",
        "\n",
        "# # Blocks\n",
        "def legendre_block(m, n, params_l, x):\n",
        "  w_l, b_l = params_l\n",
        "  h_l = jnp.tanh(x*w_l + b_l)\n",
        "  return jnp.array([legendre(n_i)(h_l) for n_i in range(n)])\n",
        "\n",
        "def chebyshev_block(x):\n",
        "  raise NotImplementedError"
      ],
      "metadata": {
        "id": "t_tX9W03Lnuq"
      },
      "execution_count": 222,
      "outputs": []
    },
    {
      "cell_type": "code",
      "source": [
        "# # Neural network\n",
        "def f(params, x):\n",
        "    w0 = params[:80]\n",
        "    b0 = params[80:160]\n",
        "    w1 = params[160:240]\n",
        "    b1 = params[240]\n",
        "    h = softplus(x*w0 + b0)\n",
        "    return jnp.sum(h*w1) + b1\n",
        "\n",
        "def g(m, n, params, x):\n",
        "  raise NotImplementedError\n",
        "\n",
        "dfdx = grad(f, 1)\n",
        "dfdx2 = grad(dfdx, 1)\n",
        "f_vect = vmap(f, (None, 0))\n",
        "dfdx_vect = vmap(dfdx, (None, 0))\n",
        "dfdx2_vect = vmap(dfdx2, (None, 0))"
      ],
      "metadata": {
        "id": "LPPKItaCL17A"
      },
      "execution_count": 223,
      "outputs": []
    },
    {
      "cell_type": "code",
      "source": [
        "# # Loss function\n",
        "# # standart Lane-Emden eqn. with m = 0\n",
        "@jit\n",
        "def loss(params, x):\n",
        "    eqn = dfdx2_vect(params, x) + (2/x)*dfdx_vect(params, x) + 1\n",
        "    bc1 = f(params, 0.) - 1\n",
        "    bc2 = dfdx(params, 0.)\n",
        "    return jnp.mean(eqn**2) + bc1**2 + bc2**2\n",
        "\n",
        "grad_loss = jit(grad(loss, 0))"
      ],
      "metadata": {
        "id": "DiQtWJPqMEob"
      },
      "execution_count": 224,
      "outputs": []
    },
    {
      "cell_type": "code",
      "source": [
        "inputs = jnp.linspace(1, 4, num=801)"
      ],
      "metadata": {
        "id": "x_cdcCbPMiMz"
      },
      "execution_count": 228,
      "outputs": []
    },
    {
      "cell_type": "code",
      "source": [
        "# # Initiating parameters\n",
        "key = random.PRNGKey(0)\n",
        "params = random.normal(key, shape=(241,))"
      ],
      "metadata": {
        "id": "b2HMZI-7MQSO"
      },
      "execution_count": 229,
      "outputs": []
    },
    {
      "cell_type": "code",
      "source": [
        "# # Training\n",
        "epochs = 1000\n",
        "learning_rate = 0.0005\n",
        "momentum = 0.99\n",
        "velocity = 0.\n",
        "\n",
        "for epoch in range(epochs):\n",
        "    if epoch % 100  == 0:\n",
        "        print('epoch: %3d loss: %.6f' % (epoch, loss(params, inputs)))\n",
        "    gradient = grad_loss(params + momentum*velocity, inputs)\n",
        "    velocity = momentum*velocity - learning_rate*gradient\n",
        "    params += velocity"
      ],
      "metadata": {
        "colab": {
          "base_uri": "https://localhost:8080/"
        },
        "id": "6LXLiGAsMke7",
        "outputId": "c3b36de8-b05a-4882-db67-64f4fa3bd507"
      },
      "execution_count": 230,
      "outputs": [
        {
          "output_type": "stream",
          "name": "stdout",
          "text": [
            "epoch:   0 loss: 74.784676\n",
            "epoch: 100 loss: 0.119401\n",
            "epoch: 200 loss: 0.007107\n",
            "epoch: 300 loss: 0.035827\n",
            "epoch: 400 loss: 0.006120\n",
            "epoch: 500 loss: 0.005671\n",
            "epoch: 600 loss: 0.002065\n",
            "epoch: 700 loss: 0.002193\n",
            "epoch: 800 loss: 0.001759\n",
            "epoch: 900 loss: 0.001598\n"
          ]
        }
      ]
    },
    {
      "cell_type": "code",
      "source": [
        "plt.plot(inputs, 1. - (inputs**2)/6, label='exact')\n",
        "plt.plot(inputs, f_vect(params, inputs), label='approx')\n",
        "plt.legend()\n",
        "plt.show()"
      ],
      "metadata": {
        "colab": {
          "base_uri": "https://localhost:8080/",
          "height": 430
        },
        "id": "SmOU4tyDM0kF",
        "outputId": "5d1dfa14-e634-4d4c-919c-a0c9ad66f9ce"
      },
      "execution_count": 231,
      "outputs": [
        {
          "output_type": "display_data",
          "data": {
            "text/plain": [
              "<Figure size 640x480 with 1 Axes>"
            ],
            "image/png": "[encoded data removed]"
          },
          "metadata": {}
        }
      ]
    }
  ]
}