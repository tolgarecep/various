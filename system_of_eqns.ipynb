{
  "nbformat": 4,
  "nbformat_minor": 0,
  "metadata": {
    "colab": {
      "provenance": []
    },
    "kernelspec": {
      "name": "python3",
      "display_name": "Python 3"
    },
    "language_info": {
      "name": "python"
    }
  },
  "cells": [
    {
      "cell_type": "code",
      "execution_count": 1,
      "metadata": {
        "id": "8yo2WbhdV8rN"
      },
      "outputs": [],
      "source": [
        "import jax\n",
        "from jax import random, grad, vmap, jit\n",
        "import jax.numpy as jnp\n",
        "\n",
        "import matplotlib.pyplot as plt"
      ]
    },
    {
      "cell_type": "code",
      "source": [
        "# def sigmoid(x):\n",
        "#     return 1./(1. + jnp.exp(-x))\n",
        "\n",
        "def sigmoid(x):\n",
        "    return 0.5 * (jnp.tanh(x / 2) + 1)"
      ],
      "metadata": {
        "id": "XITR5KbbYjyR"
      },
      "execution_count": 2,
      "outputs": []
    },
    {
      "cell_type": "code",
      "source": [
        "def N_1(x, p):\n",
        "  a, w, b = p[0], p[1], p[2]\n",
        "  z = sigmoid(jnp.dot(w, x) + b)\n",
        "  return jnp.dot(a, z).squeeze()\n",
        "\n",
        "def N_2(x, p):\n",
        "  a, w, b = p[0], p[1], p[2]\n",
        "  z = sigmoid(jnp.dot(w, x) + b)\n",
        "  return jnp.dot(a, z).squeeze()"
      ],
      "metadata": {
        "id": "vesI9r3tYeH_"
      },
      "execution_count": 3,
      "outputs": []
    },
    {
      "cell_type": "code",
      "source": [
        "def trial_1(x, p):\n",
        "  return x*N_1(x, p)\n",
        "\n",
        "def trial_2(x, p):\n",
        "  return 1+x*N_2(x, p)\n",
        "\n",
        "trial_1_vect = vmap(trial_1, (0, None))\n",
        "trial_2_vect = vmap(trial_2, (0, None))\n",
        "\n",
        "grad_trial_1 = grad(trial_1, 0)\n",
        "grad_trial_2 = grad(trial_2, 0)\n",
        "\n",
        "grad_trial_1_vect = vmap(grad_trial_1, (0, None))\n",
        "grad_trial_2_vect = vmap(grad_trial_2, (0, None))"
      ],
      "metadata": {
        "id": "mViylxTja2qi"
      },
      "execution_count": 4,
      "outputs": []
    },
    {
      "cell_type": "code",
      "source": [
        "key = random.PRNGKey(0)\n",
        "keys = [key for key in random.split(key, 6)]"
      ],
      "metadata": {
        "id": "L8bHzqniX-S0"
      },
      "execution_count": 5,
      "outputs": []
    },
    {
      "cell_type": "code",
      "source": [
        "m1 = 5\n",
        "m2 = 7\n",
        "p = [random.normal(keys[0], shape=(1, m1)), random.normal(keys[1], shape=(m1, 1)), random.normal(keys[2], shape=(m1, 1)),\n",
        "     random.normal(keys[3], shape=(1, m2)), random.normal(keys[4], shape=(m2, 1)), random.normal(keys[5], shape=(m2, 1))]\n",
        "# [alpha, w, beta]"
      ],
      "metadata": {
        "id": "UQN03cIyXrTG"
      },
      "execution_count": 6,
      "outputs": []
    },
    {
      "cell_type": "code",
      "source": [
        "def error(x, p):\n",
        "  p1 = p[:3]\n",
        "  p2 = p[3:]\n",
        "\n",
        "  H1 = grad_trial_1_vect(x, p1)-2*trial_1_vect(x, p1)+trial_2_vect(x, p2)+5*x\n",
        "  H2 = grad_trial_2_vect(x, p2)-3*trial_1_vect(x, p1)-6*trial_2_vect(x, p2)+4\n",
        "  return .5*jnp.sum(H1**2+H2**2)\n",
        "\n",
        "grad_error = jit(grad(error, 1))"
      ],
      "metadata": {
        "id": "gNLTc0HSZeIt"
      },
      "execution_count": 7,
      "outputs": []
    },
    {
      "cell_type": "code",
      "source": [
        "inputs = jnp.array([-1, -0.75, -0.50, -0.25, 0., 0.25, 0.50, 0.75])"
      ],
      "metadata": {
        "id": "OA6C593vee9l"
      },
      "execution_count": 8,
      "outputs": []
    },
    {
      "cell_type": "code",
      "source": [
        "epochs = 101\n",
        "lr = 0.01\n",
        "\n",
        "for epoch in range(epochs):\n",
        "    if epoch % 100  == 0:\n",
        "        print('epoch: %3d error: %.6f' % (epoch, error(inputs, p)))\n",
        "    grads = grad_error(inputs, p)\n",
        "    p = [p[i]-lr*grads[i] for i in range(len(p))]"
      ],
      "metadata": {
        "colab": {
          "base_uri": "https://localhost:8080/"
        },
        "id": "kAMdcE1peDPr",
        "outputId": "b05da92e-cf80-4c26-f4cb-eb67f511a07a"
      },
      "execution_count": 9,
      "outputs": [
        {
          "output_type": "stream",
          "name": "stdout",
          "text": [
            "epoch:   0 error: 118.354691\n",
            "epoch: 100 error: 17.909756\n"
          ]
        }
      ]
    },
    {
      "cell_type": "code",
      "source": [
        "trial_1_vect(inputs, p[:3])"
      ],
      "metadata": {
        "colab": {
          "base_uri": "https://localhost:8080/"
        },
        "id": "WrLgLbsRg2wA",
        "outputId": "5b11b0dc-e384-4973-bde3-453019683c6a"
      },
      "execution_count": 10,
      "outputs": [
        {
          "output_type": "execute_result",
          "data": {
            "text/plain": [
              "Array([-1.0227973 , -0.7155859 , -0.4156196 , -0.15605685,  0.        ,\n",
              "       -0.04196845, -0.3839601 , -1.0692537 ], dtype=float32)"
            ]
          },
          "metadata": {},
          "execution_count": 10
        }
      ]
    },
    {
      "cell_type": "code",
      "source": [
        "trial_2_vect(inputs, p[3:])"
      ],
      "metadata": {
        "colab": {
          "base_uri": "https://localhost:8080/"
        },
        "id": "LzhdcoPZvXt-",
        "outputId": "199bc6ce-2f95-40d2-bf10-37652b09f780"
      },
      "execution_count": 11,
      "outputs": [
        {
          "output_type": "execute_result",
          "data": {
            "text/plain": [
              "Array([1.0082798 , 1.0059779 , 1.003731  , 1.0021026 , 1.        ,\n",
              "       0.9879024 , 0.92782503, 0.7121695 ], dtype=float32)"
            ]
          },
          "metadata": {},
          "execution_count": 11
        }
      ]
    },
    {
      "cell_type": "code",
      "source": [
        "plt.plot(inputs, trial_1_vect(inputs, p[:3]), label='y1')\n",
        "plt.plot(inputs, trial_2_vect(inputs, p[3:]), label='y2')\n",
        "ax = plt.gca()\n",
        "ax.set_xlim([-1, 1])\n",
        "ax.set_ylim([-20, 20])\n",
        "plt.legend()\n",
        "plt.show()"
      ],
      "metadata": {
        "colab": {
          "base_uri": "https://localhost:8080/",
          "height": 435
        },
        "id": "G5FzOCc4hW66",
        "outputId": "8ae1494e-6074-44a2-b263-c94ed556de3c"
      },
      "execution_count": 12,
      "outputs": [
        {
          "output_type": "display_data",
          "data": {
            "text/plain": [
              "<Figure size 640x480 with 1 Axes>"
            ],
            "image/png": "[encoded data removed]"
          },
          "metadata": {}
        }
      ]
    },
    {
      "cell_type": "code",
      "source": [
        "# reset params\n",
        "p = [random.normal(keys[0], shape=(1, m1)), random.normal(keys[1], shape=(m1, 1)), random.normal(keys[2], shape=(m1, 1)),\n",
        "     random.normal(keys[3], shape=(1, m2)), random.normal(keys[4], shape=(m2, 1)), random.normal(keys[5], shape=(m2, 1))]"
      ],
      "metadata": {
        "id": "eMfPofKKdA0i"
      },
      "execution_count": 21,
      "outputs": []
    },
    {
      "cell_type": "code",
      "source": [
        "epochs = 1001\n",
        "lr = 0.01\n",
        "\n",
        "for epoch in range(epochs):\n",
        "    if epoch % 100  == 0:\n",
        "        print('epoch: %3d error: %.6f' % (epoch, error(inputs, p)))\n",
        "    grads = grad_error(inputs, p)\n",
        "    p = [p[i]-lr*grads[i] for i in range(len(p))]"
      ],
      "metadata": {
        "colab": {
          "base_uri": "https://localhost:8080/"
        },
        "id": "dKQywko5c743",
        "outputId": "2e9ed7fd-3f21-4285-eee2-019fb59770fb"
      },
      "execution_count": 22,
      "outputs": [
        {
          "output_type": "stream",
          "name": "stdout",
          "text": [
            "epoch:   0 error: 118.354691\n",
            "epoch: 100 error: 17.909756\n",
            "epoch: 200 error: 14.074269\n",
            "epoch: 300 error: 9.721235\n",
            "epoch: 400 error: 6.277142\n",
            "epoch: 500 error: 4.250597\n",
            "epoch: 600 error: 2.978712\n",
            "epoch: 700 error: 2.149574\n",
            "epoch: 800 error: 1.598742\n",
            "epoch: 900 error: 1.218871\n",
            "epoch: 1000 error: 0.951204\n"
          ]
        }
      ]
    },
    {
      "cell_type": "code",
      "source": [
        "trial_1_vect(inputs, p[:3])"
      ],
      "metadata": {
        "colab": {
          "base_uri": "https://localhost:8080/"
        },
        "id": "0PbM_SFBdc-T",
        "outputId": "beeaf7a2-c5c8-4fc8-c990-f5f5a6ebd825"
      },
      "execution_count": 23,
      "outputs": [
        {
          "output_type": "execute_result",
          "data": {
            "text/plain": [
              "Array([-1.057527  , -0.6249291 , -0.22278367,  0.04917289, -0.        ,\n",
              "       -0.6475281 , -2.3330925 , -6.064518  ], dtype=float32)"
            ]
          },
          "metadata": {},
          "execution_count": 23
        }
      ]
    },
    {
      "cell_type": "code",
      "source": [
        "trial_2_vect(inputs, p[3:])"
      ],
      "metadata": {
        "colab": {
          "base_uri": "https://localhost:8080/"
        },
        "id": "ScHWm05_dfxY",
        "outputId": "5081472c-19c0-45d1-ff4e-4db3b3cb1b8a"
      },
      "execution_count": 24,
      "outputs": [
        {
          "output_type": "execute_result",
          "data": {
            "text/plain": [
              "Array([1.0533614, 0.8921483, 0.7666067, 0.7505618, 1.       , 1.7289627,\n",
              "       3.0476472, 4.7216625], dtype=float32)"
            ]
          },
          "metadata": {},
          "execution_count": 24
        }
      ]
    },
    {
      "cell_type": "code",
      "source": [
        "plt.plot(inputs, trial_1_vect(inputs, p[:3]), label='y1')\n",
        "plt.plot(inputs, trial_2_vect(inputs, p[3:]), label='y2')\n",
        "ax = plt.gca()\n",
        "ax.set_xlim([-1, 1])\n",
        "ax.set_ylim([-20, 20])\n",
        "plt.legend()\n",
        "plt.show()"
      ],
      "metadata": {
        "colab": {
          "base_uri": "https://localhost:8080/",
          "height": 435
        },
        "id": "jbXGRZYMdNbT",
        "outputId": "1e857a7f-82af-441b-c239-c20e4442c418"
      },
      "execution_count": 25,
      "outputs": [
        {
          "output_type": "display_data",
          "data": {
            "text/plain": [
              "<Figure size 640x480 with 1 Axes>"
            ],
            "image/png": "[encoded data removed]"
          },
          "metadata": {}
        }
      ]
    }
  ]
}