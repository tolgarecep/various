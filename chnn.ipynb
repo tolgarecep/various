{
  "nbformat": 4,
  "nbformat_minor": 0,
  "metadata": {
    "colab": {
      "provenance": []
    },
    "kernelspec": {
      "name": "python3",
      "display_name": "Python 3"
    },
    "language_info": {
      "name": "python"
    }
  },
  "cells": [
    {
      "cell_type": "code",
      "source": [
        "import jax\n",
        "from jax import random, grad, vmap, jit\n",
        "import jax.numpy as jnp\n",
        "\n",
        "import matplotlib.pyplot as plt"
      ],
      "metadata": {
        "id": "2H5aYP8vVXxX"
      },
      "execution_count": null,
      "outputs": []
    },
    {
      "cell_type": "code",
      "execution_count": null,
      "metadata": {
        "id": "ogitfp99KgxZ"
      },
      "outputs": [],
      "source": [
        "def chebyshev(n, x):\n",
        "  if n == 0:\n",
        "    return jnp.ones_like(x)\n",
        "  elif n == 1:\n",
        "    return x\n",
        "  else:\n",
        "    return 2*x*chebyshev(n-1, x) - chebyshev(n-2, x)"
      ]
    },
    {
      "cell_type": "code",
      "source": [
        "def N(w, x):\n",
        "  # numerical transformation\n",
        "  x = jnp.stack([chebyshev(i, x) for i in range(1, 5+1)]).T\n",
        "  x = x.T if x.shape[0]==1 else x\n",
        "  # learning\n",
        "  z = jnp.dot(w, x).squeeze()\n",
        "  return jnp.tanh(z)\n",
        "\n",
        "def trial(w, x):\n",
        "  # D = (1, 4)\n",
        "  return 1 + (x**2)*N(w, x)\n",
        "\n",
        "trial_vect = vmap(trial, (None, 0))\n",
        "grad_trial = grad(trial, 1)\n",
        "grad_trial_vect = vmap(grad_trial, (None, 0))\n",
        "grad2_trial = grad(grad_trial, 1)\n",
        "grad2_trial_vect = vmap(grad2_trial, (None, 0))"
      ],
      "metadata": {
        "id": "NeXo6tcNVDAc"
      },
      "execution_count": null,
      "outputs": []
    },
    {
      "cell_type": "code",
      "source": [
        "inputs = jnp.linspace(0.01, 1, num=10)\n",
        "inputs"
      ],
      "metadata": {
        "colab": {
          "base_uri": "https://localhost:8080/"
        },
        "id": "I_7Ue-7YVURs",
        "outputId": "64b41714-9e48-4314-c52e-66b7d365f1e5"
      },
      "execution_count": null,
      "outputs": [
        {
          "output_type": "execute_result",
          "data": {
            "text/plain": [
              "Array([0.01      , 0.12      , 0.23      , 0.34      , 0.45000002,\n",
              "       0.56      , 0.67      , 0.78000003, 0.89      , 1.        ],      dtype=float32)"
            ]
          },
          "metadata": {},
          "execution_count": 67
        }
      ]
    },
    {
      "cell_type": "code",
      "source": [
        "@jit\n",
        "def error(params, inputs):\n",
        "  term = grad2_trial_vect(params, inputs) + (2/inputs)*grad_trial_vect(params, inputs) + 1\n",
        "  return jnp.sum(0.5*term**2)\n",
        "\n",
        "grad_error = jit(grad(error, 0))"
      ],
      "metadata": {
        "id": "M6PwhOIfWyIu"
      },
      "execution_count": null,
      "outputs": []
    },
    {
      "cell_type": "code",
      "source": [
        "key = random.PRNGKey(0)"
      ],
      "metadata": {
        "id": "MuccT5kOVWgs"
      },
      "execution_count": null,
      "outputs": []
    },
    {
      "cell_type": "code",
      "source": [
        "params = random.normal(key, shape=(1, 5))"
      ],
      "metadata": {
        "id": "BgPV4WETVYEe"
      },
      "execution_count": null,
      "outputs": []
    },
    {
      "cell_type": "code",
      "source": [
        "epochs = 100001\n",
        "lr = 0.000005\n",
        "\n",
        "for epoch in range(epochs):\n",
        "    if epoch % 10000  == 0:\n",
        "        print('epoch: %3d error: %.6f' % (epoch, error(params, inputs)))\n",
        "    grads = grad_error(params, inputs)\n",
        "    params = params - lr*grads"
      ],
      "metadata": {
        "colab": {
          "base_uri": "https://localhost:8080/"
        },
        "id": "F7Qe-GlgYAHX",
        "outputId": "51d2b807-e51a-4254-d942-a71ea6f67cab"
      },
      "execution_count": null,
      "outputs": [
        {
          "output_type": "stream",
          "name": "stdout",
          "text": [
            "epoch:   0 loss: 14327.644531\n",
            "epoch: 10000 loss: 105.302864\n",
            "epoch: 20000 loss: 0.779082\n",
            "epoch: 30000 loss: 0.105438\n",
            "epoch: 40000 loss: 0.083496\n",
            "epoch: 50000 loss: 0.066296\n",
            "epoch: 60000 loss: 0.052654\n",
            "epoch: 70000 loss: 0.041835\n",
            "epoch: 80000 loss: 0.033249\n",
            "epoch: 90000 loss: 0.026437\n",
            "epoch: 100000 loss: 0.021028\n"
          ]
        }
      ]
    },
    {
      "cell_type": "code",
      "source": [
        "plt.plot(inputs, 1 - (inputs**2/6), label='exact')\n",
        "plt.plot(inputs, trial_vect(params, inputs), label='approx')\n",
        "ax = plt.gca()\n",
        "ax.set_xlim([0, 1])\n",
        "ax.set_ylim([0.82, 1])\n",
        "plt.legend()\n",
        "plt.show()"
      ],
      "metadata": {
        "colab": {
          "base_uri": "https://localhost:8080/",
          "height": 435
        },
        "id": "GagYkmIgiRg4",
        "outputId": "be6582c5-7ec5-4c43-9330-43273f522279"
      },
      "execution_count": null,
      "outputs": [
        {
          "output_type": "display_data",
          "data": {
            "text/plain": [
              "<Figure size 640x480 with 1 Axes>"
            ],
            "image/png": "[encoded data removed]"
          },
          "metadata": {}
        }
      ]
    },
    {
      "cell_type": "code",
      "source": [
        "inputs_w0 = jnp.linspace(0.1, 1, num=10)\n",
        "inputs_w0"
      ],
      "metadata": {
        "colab": {
          "base_uri": "https://localhost:8080/"
        },
        "id": "5aiBPbA1zkWw",
        "outputId": "8cabe57a-3123-4b93-ed36-581553cab333"
      },
      "execution_count": null,
      "outputs": [
        {
          "output_type": "execute_result",
          "data": {
            "text/plain": [
              "Array([0.1       , 0.2       , 0.3       , 0.4       , 0.5       ,\n",
              "       0.6       , 0.70000005, 0.8       , 0.90000004, 1.        ],      dtype=float32)"
            ]
          },
          "metadata": {},
          "execution_count": 122
        }
      ]
    },
    {
      "cell_type": "code",
      "source": [
        "1 - (inputs_w0**2/6)"
      ],
      "metadata": {
        "colab": {
          "base_uri": "https://localhost:8080/"
        },
        "id": "nCFItmsyrgg5",
        "outputId": "48a91f05-c4ef-487a-b777-f55f05140779"
      },
      "execution_count": null,
      "outputs": [
        {
          "output_type": "execute_result",
          "data": {
            "text/plain": [
              "Array([0.99833333, 0.99333334, 0.985     , 0.97333336, 0.9583333 ,\n",
              "       0.94      , 0.9183333 , 0.8933333 , 0.865     , 0.8333333 ],      dtype=float32)"
            ]
          },
          "metadata": {},
          "execution_count": 123
        }
      ]
    },
    {
      "cell_type": "code",
      "source": [
        "trial_vect(params, inputs_w0)"
      ],
      "metadata": {
        "colab": {
          "base_uri": "https://localhost:8080/"
        },
        "id": "0sYrbCubrik1",
        "outputId": "72d31c60-7ec4-4e30-eccb-75a8f5239d80"
      },
      "execution_count": null,
      "outputs": [
        {
          "output_type": "execute_result",
          "data": {
            "text/plain": [
              "Array([0.9984347 , 0.9932967 , 0.9844332 , 0.9721212 , 0.9567549 ,\n",
              "       0.93857914, 0.91752374, 0.89319885, 0.86511207, 0.8331661 ],      dtype=float32)"
            ]
          },
          "metadata": {},
          "execution_count": 124
        }
      ]
    },
    {
      "cell_type": "code",
      "source": [
        "jnp.abs((1 - (inputs_w0**2/6)) - trial_vect(params, inputs_w0))"
      ],
      "metadata": {
        "colab": {
          "base_uri": "https://localhost:8080/"
        },
        "id": "-Z-c5wJ7rrNu",
        "outputId": "e54b4c8e-2fa4-49db-b63b-7a42a0303233"
      },
      "execution_count": null,
      "outputs": [
        {
          "output_type": "execute_result",
          "data": {
            "text/plain": [
              "Array([1.0138750e-04, 3.6656857e-05, 5.6684017e-04, 1.2121797e-03,\n",
              "       1.5783906e-03, 1.4208555e-03, 8.0955029e-04, 1.3446808e-04,\n",
              "       1.1205673e-04, 1.6719103e-04], dtype=float32)"
            ]
          },
          "metadata": {},
          "execution_count": 125
        }
      ]
    },
    {
      "cell_type": "code",
      "source": [],
      "metadata": {
        "id": "f4mkWxC80C5u"
      },
      "execution_count": null,
      "outputs": []
    },
    {
      "cell_type": "code",
      "source": [
        "print('MAE')\n",
        "\"{:e}\".format((1/len(inputs))*jnp.sum(jnp.abs(((1 - (inputs**2/6)) - trial_vect(params, inputs)))).item())"
      ],
      "metadata": {
        "colab": {
          "base_uri": "https://localhost:8080/",
          "height": 52
        },
        "id": "bqlR3Rl60Qhf",
        "outputId": "df703a63-8d72-49c5-ef12-6f886b4362c1"
      },
      "execution_count": null,
      "outputs": [
        {
          "output_type": "stream",
          "name": "stdout",
          "text": [
            "MAE\n"
          ]
        },
        {
          "output_type": "execute_result",
          "data": {
            "text/plain": [
              "'5.661011e-04'"
            ],
            "application/vnd.google.colaboratory.intrinsic+json": {
              "type": "string"
            }
          },
          "metadata": {},
          "execution_count": 132
        }
      ]
    },
    {
      "cell_type": "code",
      "source": [
        "print('MSE')\n",
        "\"{:e}\".format((1/len(inputs))*jnp.sum(((1 - (inputs**2/6))-trial_vect(params, inputs))**2))"
      ],
      "metadata": {
        "colab": {
          "base_uri": "https://localhost:8080/",
          "height": 52
        },
        "id": "6r4yZ1pS0wrP",
        "outputId": "ed1d4d33-e0dc-478b-a862-54135024e30c"
      },
      "execution_count": null,
      "outputs": [
        {
          "output_type": "stream",
          "name": "stdout",
          "text": [
            "MSE\n"
          ]
        },
        {
          "output_type": "execute_result",
          "data": {
            "text/plain": [
              "'6.391626e-07'"
            ],
            "application/vnd.google.colaboratory.intrinsic+json": {
              "type": "string"
            }
          },
          "metadata": {},
          "execution_count": 135
        }
      ]
    },
    {
      "cell_type": "code",
      "source": [
        "print('L1 NORM')\n",
        "\"{:e}\".format(jnp.linalg.norm((1 - (inputs**2/6))-trial_vect(params, inputs), ord=1))"
      ],
      "metadata": {
        "colab": {
          "base_uri": "https://localhost:8080/",
          "height": 52
        },
        "id": "p09ODuY81X0-",
        "outputId": "c5c24346-1853-47f7-ebca-f98efa0a5545"
      },
      "execution_count": null,
      "outputs": [
        {
          "output_type": "stream",
          "name": "stdout",
          "text": [
            "L1 NORM\n"
          ]
        },
        {
          "output_type": "execute_result",
          "data": {
            "text/plain": [
              "'5.661011e-03'"
            ],
            "application/vnd.google.colaboratory.intrinsic+json": {
              "type": "string"
            }
          },
          "metadata": {},
          "execution_count": 136
        }
      ]
    },
    {
      "cell_type": "code",
      "source": [
        "plt.plot(inputs,\n",
        "         [jnp.sum(0.5*(grad2_trial(params, num) + (2/num)*grad_trial(params, num) + 1)**2) for num in inputs])\n",
        "ax = plt.gca()\n",
        "ax.set_ylim([-0.01, 0.01])\n",
        "ax.set_xlim([0, 1])"
      ],
      "metadata": {
        "colab": {
          "base_uri": "https://localhost:8080/",
          "height": 452
        },
        "id": "cbXK8Ggusa4Q",
        "outputId": "ef540322-50d0-49dd-ebfa-3ead6f33db41"
      },
      "execution_count": null,
      "outputs": [
        {
          "output_type": "execute_result",
          "data": {
            "text/plain": [
              "(0.0, 1.0)"
            ]
          },
          "metadata": {},
          "execution_count": 107
        },
        {
          "output_type": "display_data",
          "data": {
            "text/plain": [
              "<Figure size 640x480 with 1 Axes>"
            ],
            "image/png": "[encoded data removed]"
          },
          "metadata": {}
        }
      ]
    }
  ]
}